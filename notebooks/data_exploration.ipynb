{
 "cells": [
  {
   "cell_type": "code",
   "execution_count": 1,
   "id": "9dda1aec-0d75-4713-98ab-8ac9acf273c1",
   "metadata": {},
   "outputs": [],
   "source": [
    "%load_ext autoreload\n",
    "%autoreload 2"
   ]
  },
  {
   "cell_type": "code",
   "execution_count": 2,
   "id": "50843998-cd18-4211-92bd-577a36dcb27f",
   "metadata": {},
   "outputs": [],
   "source": [
    "import unicodedata\n",
    "import igviz as ig\n",
    "import matplotlib.pyplot as plt\n",
    "import networkx as nx\n",
    "import pandas as pd\n",
    "import sys\n",
    "\n",
    "sys.path.append('../src')\n",
    "import utils\n",
    "\n",
    "pd.set_option('display.max_rows', None)\n",
    "pd.set_option('display.max_columns', None)\n",
    "pd.options.mode.chained_assignment = None  # default='warn'"
   ]
  },
  {
   "cell_type": "markdown",
   "id": "0f6871c9-02c2-44d1-8915-d9a6ba088cc3",
   "metadata": {},
   "source": [
    "## Borders dataset \n",
    "Taken from: \n",
    "    https://github.com/geodatasource/country-borders"
   ]
  },
  {
   "cell_type": "code",
   "execution_count": 3,
   "id": "949a12bf-75ae-46bf-ac10-97322acbc975",
   "metadata": {},
   "outputs": [
    {
     "data": {
      "text/html": [
       "<div>\n",
       "<style scoped>\n",
       "    .dataframe tbody tr th:only-of-type {\n",
       "        vertical-align: middle;\n",
       "    }\n",
       "\n",
       "    .dataframe tbody tr th {\n",
       "        vertical-align: top;\n",
       "    }\n",
       "\n",
       "    .dataframe thead th {\n",
       "        text-align: right;\n",
       "    }\n",
       "</style>\n",
       "<table border=\"1\" class=\"dataframe\">\n",
       "  <thead>\n",
       "    <tr style=\"text-align: right;\">\n",
       "      <th></th>\n",
       "      <th>country_code</th>\n",
       "      <th>country_name</th>\n",
       "      <th>country_border_code</th>\n",
       "      <th>country_border_name</th>\n",
       "    </tr>\n",
       "  </thead>\n",
       "  <tbody>\n",
       "    <tr>\n",
       "      <th>0</th>\n",
       "      <td>AD</td>\n",
       "      <td>Andorra</td>\n",
       "      <td>FR</td>\n",
       "      <td>France</td>\n",
       "    </tr>\n",
       "    <tr>\n",
       "      <th>1</th>\n",
       "      <td>AD</td>\n",
       "      <td>Andorra</td>\n",
       "      <td>ES</td>\n",
       "      <td>Spain</td>\n",
       "    </tr>\n",
       "    <tr>\n",
       "      <th>2</th>\n",
       "      <td>AE</td>\n",
       "      <td>United Arab Emirates</td>\n",
       "      <td>OM</td>\n",
       "      <td>Oman</td>\n",
       "    </tr>\n",
       "    <tr>\n",
       "      <th>3</th>\n",
       "      <td>AE</td>\n",
       "      <td>United Arab Emirates</td>\n",
       "      <td>SA</td>\n",
       "      <td>Saudi Arabia</td>\n",
       "    </tr>\n",
       "    <tr>\n",
       "      <th>4</th>\n",
       "      <td>AF</td>\n",
       "      <td>Afghanistan</td>\n",
       "      <td>CN</td>\n",
       "      <td>China</td>\n",
       "    </tr>\n",
       "  </tbody>\n",
       "</table>\n",
       "</div>"
      ],
      "text/plain": [
       "  country_code          country_name country_border_code country_border_name\n",
       "0           AD               Andorra                  FR              France\n",
       "1           AD               Andorra                  ES               Spain\n",
       "2           AE  United Arab Emirates                  OM                Oman\n",
       "3           AE  United Arab Emirates                  SA        Saudi Arabia\n",
       "4           AF           Afghanistan                  CN               China"
      ]
     },
     "execution_count": 3,
     "metadata": {},
     "output_type": "execute_result"
    }
   ],
   "source": [
    "brd_df = pd.read_csv('../data/land_borders.CSV')\n",
    "brd_df.head()"
   ]
  },
  {
   "cell_type": "code",
   "execution_count": 4,
   "id": "aa80eca3-1531-4969-9eb6-900719458077",
   "metadata": {},
   "outputs": [],
   "source": [
    "# standardize\n",
    "brd_df = brd_df.applymap(lambda s:s.lower() if type(s) == str else s)\n",
    "#brd_df = brd_df.dropna()"
   ]
  },
  {
   "cell_type": "code",
   "execution_count": 5,
   "id": "b4a51bc0-2e30-45a7-9168-ca0b7b6cca43",
   "metadata": {},
   "outputs": [],
   "source": [
    "# rename columns\n",
    "brd_df.rename(columns={\"country_name\": \"country\",\n",
    "                   \"country_code\": \"country_code\",\n",
    "                   \"country_border_name\": \"neighbor\", \n",
    "                   \"country_border_code\": \"neighbor_code\"}, inplace = True)"
   ]
  },
  {
   "cell_type": "code",
   "execution_count": 6,
   "id": "47b1c8f9-01ed-4848-8abb-340b94478edb",
   "metadata": {},
   "outputs": [
    {
     "data": {
      "text/html": [
       "<div>\n",
       "<style scoped>\n",
       "    .dataframe tbody tr th:only-of-type {\n",
       "        vertical-align: middle;\n",
       "    }\n",
       "\n",
       "    .dataframe tbody tr th {\n",
       "        vertical-align: top;\n",
       "    }\n",
       "\n",
       "    .dataframe thead th {\n",
       "        text-align: right;\n",
       "    }\n",
       "</style>\n",
       "<table border=\"1\" class=\"dataframe\">\n",
       "  <thead>\n",
       "    <tr style=\"text-align: right;\">\n",
       "      <th></th>\n",
       "      <th>country_code</th>\n",
       "      <th>country</th>\n",
       "      <th>neighbor_code</th>\n",
       "      <th>neighbor</th>\n",
       "    </tr>\n",
       "  </thead>\n",
       "  <tbody>\n",
       "    <tr>\n",
       "      <th>0</th>\n",
       "      <td>ad</td>\n",
       "      <td>andorra</td>\n",
       "      <td>fr</td>\n",
       "      <td>france</td>\n",
       "    </tr>\n",
       "    <tr>\n",
       "      <th>1</th>\n",
       "      <td>ad</td>\n",
       "      <td>andorra</td>\n",
       "      <td>es</td>\n",
       "      <td>spain</td>\n",
       "    </tr>\n",
       "    <tr>\n",
       "      <th>2</th>\n",
       "      <td>ae</td>\n",
       "      <td>united arab emirates</td>\n",
       "      <td>om</td>\n",
       "      <td>oman</td>\n",
       "    </tr>\n",
       "    <tr>\n",
       "      <th>3</th>\n",
       "      <td>ae</td>\n",
       "      <td>united arab emirates</td>\n",
       "      <td>sa</td>\n",
       "      <td>saudi arabia</td>\n",
       "    </tr>\n",
       "    <tr>\n",
       "      <th>4</th>\n",
       "      <td>af</td>\n",
       "      <td>afghanistan</td>\n",
       "      <td>cn</td>\n",
       "      <td>china</td>\n",
       "    </tr>\n",
       "  </tbody>\n",
       "</table>\n",
       "</div>"
      ],
      "text/plain": [
       "  country_code               country neighbor_code      neighbor\n",
       "0           ad               andorra            fr        france\n",
       "1           ad               andorra            es         spain\n",
       "2           ae  united arab emirates            om          oman\n",
       "3           ae  united arab emirates            sa  saudi arabia\n",
       "4           af           afghanistan            cn         china"
      ]
     },
     "execution_count": 6,
     "metadata": {},
     "output_type": "execute_result"
    }
   ],
   "source": [
    "brd_df.head()"
   ]
  },
  {
   "cell_type": "markdown",
   "id": "7e51aa1e-4605-4e1e-9f3f-57eafea10c8b",
   "metadata": {},
   "source": [
    "- Dataframe without neighbors"
   ]
  },
  {
   "cell_type": "code",
   "execution_count": 7,
   "id": "03d64f8e-9044-4bce-a860-0d62c6eac726",
   "metadata": {},
   "outputs": [
    {
     "data": {
      "text/html": [
       "<div>\n",
       "<style scoped>\n",
       "    .dataframe tbody tr th:only-of-type {\n",
       "        vertical-align: middle;\n",
       "    }\n",
       "\n",
       "    .dataframe tbody tr th {\n",
       "        vertical-align: top;\n",
       "    }\n",
       "\n",
       "    .dataframe thead th {\n",
       "        text-align: right;\n",
       "    }\n",
       "</style>\n",
       "<table border=\"1\" class=\"dataframe\">\n",
       "  <thead>\n",
       "    <tr style=\"text-align: right;\">\n",
       "      <th></th>\n",
       "      <th>country_code</th>\n",
       "      <th>country</th>\n",
       "      <th>neighbor_code</th>\n",
       "      <th>neighbor</th>\n",
       "    </tr>\n",
       "  </thead>\n",
       "  <tbody>\n",
       "    <tr>\n",
       "      <th>10</th>\n",
       "      <td>ag</td>\n",
       "      <td>antigua and barbuda</td>\n",
       "      <td>NaN</td>\n",
       "      <td>NaN</td>\n",
       "    </tr>\n",
       "    <tr>\n",
       "      <th>11</th>\n",
       "      <td>ai</td>\n",
       "      <td>anguilla</td>\n",
       "      <td>NaN</td>\n",
       "      <td>NaN</td>\n",
       "    </tr>\n",
       "    <tr>\n",
       "      <th>24</th>\n",
       "      <td>aq</td>\n",
       "      <td>antarctica</td>\n",
       "      <td>NaN</td>\n",
       "      <td>NaN</td>\n",
       "    </tr>\n",
       "  </tbody>\n",
       "</table>\n",
       "</div>"
      ],
      "text/plain": [
       "   country_code              country neighbor_code neighbor\n",
       "10           ag  antigua and barbuda           NaN      NaN\n",
       "11           ai             anguilla           NaN      NaN\n",
       "24           aq           antarctica           NaN      NaN"
      ]
     },
     "execution_count": 7,
     "metadata": {},
     "output_type": "execute_result"
    }
   ],
   "source": [
    "df_no_neighbors = brd_df[brd_df['neighbor'].isna()]\n",
    "df_no_neighbors.head(3)"
   ]
  },
  {
   "cell_type": "markdown",
   "id": "034a8834-292b-4576-9a59-ac649b9c153f",
   "metadata": {},
   "source": [
    "- Dataframe with neighbors"
   ]
  },
  {
   "cell_type": "code",
   "execution_count": 8,
   "id": "186cd8f5-da73-4076-b858-2f45d832e82c",
   "metadata": {},
   "outputs": [],
   "source": [
    "brd_df = brd_df.dropna()"
   ]
  },
  {
   "cell_type": "markdown",
   "id": "be558f8a-290a-45bf-80c6-ee28475f7c71",
   "metadata": {},
   "source": [
    "## Coordinates dataset  \n",
    "Taken from: \n",
    "    https://gist.github.com/tadast/8827699#filecountries_codes_and_coordinates-csv"
   ]
  },
  {
   "cell_type": "code",
   "execution_count": 9,
   "id": "9138990c-2d4a-41c4-92d0-4356c03d8ef0",
   "metadata": {},
   "outputs": [],
   "source": [
    "# http://techslides.com/list-of-countries-and-capitals#google_vignette\n",
    "coord_df = pd.read_csv('../data/country-capitals.csv')"
   ]
  },
  {
   "cell_type": "code",
   "execution_count": 10,
   "id": "18ff48ab-7c56-4246-b820-d0227b1830db",
   "metadata": {},
   "outputs": [],
   "source": [
    "new_row = {'CountryName': 'French Guiana', \n",
    "           'CapitalName': 'Cayenne', \n",
    "           'CapitalLatitude':4.9372, \n",
    "           'CapitalLongitude':-52.326, \n",
    "           'CountryCode':'GF',\n",
    "           'ContinentName': 'America'}\n",
    "#append row to the dataframe\n",
    "coord_df = coord_df.append(new_row, ignore_index=True)"
   ]
  },
  {
   "cell_type": "code",
   "execution_count": 11,
   "id": "a9c3d156-0242-43c4-8a39-768030901efb",
   "metadata": {},
   "outputs": [
    {
     "data": {
      "text/html": [
       "<div>\n",
       "<style scoped>\n",
       "    .dataframe tbody tr th:only-of-type {\n",
       "        vertical-align: middle;\n",
       "    }\n",
       "\n",
       "    .dataframe tbody tr th {\n",
       "        vertical-align: top;\n",
       "    }\n",
       "\n",
       "    .dataframe thead th {\n",
       "        text-align: right;\n",
       "    }\n",
       "</style>\n",
       "<table border=\"1\" class=\"dataframe\">\n",
       "  <thead>\n",
       "    <tr style=\"text-align: right;\">\n",
       "      <th></th>\n",
       "      <th>CountryName</th>\n",
       "      <th>CapitalName</th>\n",
       "      <th>CapitalLatitude</th>\n",
       "      <th>CapitalLongitude</th>\n",
       "      <th>CountryCode</th>\n",
       "      <th>ContinentName</th>\n",
       "    </tr>\n",
       "  </thead>\n",
       "  <tbody>\n",
       "    <tr>\n",
       "      <th>242</th>\n",
       "      <td>british indian ocean territory</td>\n",
       "      <td>diego garcia</td>\n",
       "      <td>-7.3000</td>\n",
       "      <td>72.400</td>\n",
       "      <td>io</td>\n",
       "      <td>africa</td>\n",
       "    </tr>\n",
       "    <tr>\n",
       "      <th>243</th>\n",
       "      <td>macau</td>\n",
       "      <td>NaN</td>\n",
       "      <td>0.0000</td>\n",
       "      <td>0.000</td>\n",
       "      <td>mo</td>\n",
       "      <td>asia</td>\n",
       "    </tr>\n",
       "    <tr>\n",
       "      <th>244</th>\n",
       "      <td>french guiana</td>\n",
       "      <td>cayenne</td>\n",
       "      <td>4.9372</td>\n",
       "      <td>-52.326</td>\n",
       "      <td>gf</td>\n",
       "      <td>america</td>\n",
       "    </tr>\n",
       "  </tbody>\n",
       "</table>\n",
       "</div>"
      ],
      "text/plain": [
       "                        CountryName   CapitalName  CapitalLatitude  \\\n",
       "242  british indian ocean territory  diego garcia          -7.3000   \n",
       "243                           macau           NaN           0.0000   \n",
       "244                   french guiana       cayenne           4.9372   \n",
       "\n",
       "     CapitalLongitude CountryCode ContinentName  \n",
       "242            72.400          io        africa  \n",
       "243             0.000          mo          asia  \n",
       "244           -52.326          gf       america  "
      ]
     },
     "execution_count": 11,
     "metadata": {},
     "output_type": "execute_result"
    }
   ],
   "source": [
    "# standardize\n",
    "coord_df = coord_df.applymap(lambda s:s.lower() if type(s) == str else s)\n",
    "## removes special characters\n",
    "coord_df = coord_df.applymap(lambda s:unicodedata.normalize('NFD', s).encode('ascii', 'ignore').decode(\"utf-8\") if type(s) == str else s)\n",
    "coord_df.tail(3)"
   ]
  },
  {
   "cell_type": "code",
   "execution_count": 12,
   "id": "007f8609-4440-4f10-ac56-cf40e8473074",
   "metadata": {},
   "outputs": [
    {
     "data": {
      "text/html": [
       "<div>\n",
       "<style scoped>\n",
       "    .dataframe tbody tr th:only-of-type {\n",
       "        vertical-align: middle;\n",
       "    }\n",
       "\n",
       "    .dataframe tbody tr th {\n",
       "        vertical-align: top;\n",
       "    }\n",
       "\n",
       "    .dataframe thead th {\n",
       "        text-align: right;\n",
       "    }\n",
       "</style>\n",
       "<table border=\"1\" class=\"dataframe\">\n",
       "  <thead>\n",
       "    <tr style=\"text-align: right;\">\n",
       "      <th></th>\n",
       "      <th>country_code</th>\n",
       "      <th>latitude</th>\n",
       "      <th>longitude</th>\n",
       "      <th>continent</th>\n",
       "    </tr>\n",
       "  </thead>\n",
       "  <tbody>\n",
       "    <tr>\n",
       "      <th>1</th>\n",
       "      <td>gs</td>\n",
       "      <td>-54.283333</td>\n",
       "      <td>-36.500000</td>\n",
       "      <td>antarctica</td>\n",
       "    </tr>\n",
       "    <tr>\n",
       "      <th>2</th>\n",
       "      <td>tf</td>\n",
       "      <td>-49.350000</td>\n",
       "      <td>70.216667</td>\n",
       "      <td>antarctica</td>\n",
       "    </tr>\n",
       "    <tr>\n",
       "      <th>3</th>\n",
       "      <td>ps</td>\n",
       "      <td>31.766667</td>\n",
       "      <td>35.233333</td>\n",
       "      <td>asia</td>\n",
       "    </tr>\n",
       "  </tbody>\n",
       "</table>\n",
       "</div>"
      ],
      "text/plain": [
       "  country_code   latitude  longitude   continent\n",
       "1           gs -54.283333 -36.500000  antarctica\n",
       "2           tf -49.350000  70.216667  antarctica\n",
       "3           ps  31.766667  35.233333        asia"
      ]
     },
     "execution_count": 12,
     "metadata": {},
     "output_type": "execute_result"
    }
   ],
   "source": [
    "coord_df.rename(columns={\"CountryName\": \"country\",\n",
    "                       \"CapitalName\": \"capital\",\n",
    "                       \"CountryCode\": \"country_code\",\n",
    "                       \"CapitalLongitude\": \"longitude\",\n",
    "                       \"CapitalLatitude\": \"latitude\",\n",
    "                       \"ContinentName\": \"continent\"}, \n",
    "                        inplace = True)\n",
    "\n",
    "coord_df_filt = coord_df.copy()[['country_code','latitude', 'longitude', 'continent']]\n",
    "coord_df_filt.dropna(inplace=True)\n",
    "coord_df_filt.head(3)"
   ]
  },
  {
   "cell_type": "markdown",
   "id": "c04aa806",
   "metadata": {},
   "source": [
    "# Using average coordinates for a better visualization"
   ]
  },
  {
   "cell_type": "code",
   "execution_count": 13,
   "id": "c683f156-553d-443b-b919-3d0f86ffb65c",
   "metadata": {},
   "outputs": [
    {
     "data": {
      "text/html": [
       "<div>\n",
       "<style scoped>\n",
       "    .dataframe tbody tr th:only-of-type {\n",
       "        vertical-align: middle;\n",
       "    }\n",
       "\n",
       "    .dataframe tbody tr th {\n",
       "        vertical-align: top;\n",
       "    }\n",
       "\n",
       "    .dataframe thead th {\n",
       "        text-align: right;\n",
       "    }\n",
       "</style>\n",
       "<table border=\"1\" class=\"dataframe\">\n",
       "  <thead>\n",
       "    <tr style=\"text-align: right;\">\n",
       "      <th></th>\n",
       "      <th>Country</th>\n",
       "      <th>Alpha-2 code</th>\n",
       "      <th>Alpha-3 code</th>\n",
       "      <th>Numeric code</th>\n",
       "      <th>Latitude (average)</th>\n",
       "      <th>Longitude (average)</th>\n",
       "    </tr>\n",
       "  </thead>\n",
       "  <tbody>\n",
       "    <tr>\n",
       "      <th>0</th>\n",
       "      <td>Afghanistan</td>\n",
       "      <td>\"AF\"</td>\n",
       "      <td>\"AFG\"</td>\n",
       "      <td>\"4\"</td>\n",
       "      <td>\"33\"</td>\n",
       "      <td>\"65\"</td>\n",
       "    </tr>\n",
       "    <tr>\n",
       "      <th>1</th>\n",
       "      <td>Albania</td>\n",
       "      <td>\"AL\"</td>\n",
       "      <td>\"ALB\"</td>\n",
       "      <td>\"8\"</td>\n",
       "      <td>\"41\"</td>\n",
       "      <td>\"20\"</td>\n",
       "    </tr>\n",
       "    <tr>\n",
       "      <th>2</th>\n",
       "      <td>Algeria</td>\n",
       "      <td>\"DZ\"</td>\n",
       "      <td>\"DZA\"</td>\n",
       "      <td>\"12\"</td>\n",
       "      <td>\"28\"</td>\n",
       "      <td>\"3\"</td>\n",
       "    </tr>\n",
       "    <tr>\n",
       "      <th>3</th>\n",
       "      <td>American Samoa</td>\n",
       "      <td>\"AS\"</td>\n",
       "      <td>\"ASM\"</td>\n",
       "      <td>\"16\"</td>\n",
       "      <td>\"-14.3333\"</td>\n",
       "      <td>\"-170\"</td>\n",
       "    </tr>\n",
       "    <tr>\n",
       "      <th>4</th>\n",
       "      <td>Andorra</td>\n",
       "      <td>\"AD\"</td>\n",
       "      <td>\"AND\"</td>\n",
       "      <td>\"20\"</td>\n",
       "      <td>\"42.5\"</td>\n",
       "      <td>\"1.6\"</td>\n",
       "    </tr>\n",
       "  </tbody>\n",
       "</table>\n",
       "</div>"
      ],
      "text/plain": [
       "          Country Alpha-2 code Alpha-3 code Numeric code Latitude (average)  \\\n",
       "0     Afghanistan         \"AF\"        \"AFG\"          \"4\"               \"33\"   \n",
       "1         Albania         \"AL\"        \"ALB\"          \"8\"               \"41\"   \n",
       "2         Algeria         \"DZ\"        \"DZA\"         \"12\"               \"28\"   \n",
       "3  American Samoa         \"AS\"        \"ASM\"         \"16\"         \"-14.3333\"   \n",
       "4         Andorra         \"AD\"        \"AND\"         \"20\"             \"42.5\"   \n",
       "\n",
       "  Longitude (average)  \n",
       "0                \"65\"  \n",
       "1                \"20\"  \n",
       "2                 \"3\"  \n",
       "3              \"-170\"  \n",
       "4               \"1.6\"  "
      ]
     },
     "execution_count": 13,
     "metadata": {},
     "output_type": "execute_result"
    }
   ],
   "source": [
    "## Other approach\n",
    "coord_df_2 = pd.read_csv('../data/countries_codes_and_coordinates.csv')\n",
    "coord_df_2.head()"
   ]
  },
  {
   "cell_type": "code",
   "execution_count": 14,
   "id": "8d84186b-37d8-4845-96d0-15bca2329efb",
   "metadata": {},
   "outputs": [],
   "source": [
    "# Clean characters\n",
    "coord_df_2[coord_df_2.columns] = coord_df_2[coord_df_2.columns].replace({'\\\"':''}, regex=True)\n",
    "coord_df_2[coord_df_2.columns] = coord_df_2[coord_df_2.columns].replace({' ':''}, regex=True)"
   ]
  },
  {
   "cell_type": "code",
   "execution_count": 15,
   "id": "7ecbda77-0dc5-4fac-956a-16f1a60ec38b",
   "metadata": {},
   "outputs": [],
   "source": [
    "# rename columns\n",
    "coord_df_2.rename(columns={\"Country\": \"country\",\n",
    "                       \"Alpha-2 code\": \"country_code\",\n",
    "                       \"Latitude (average)\": \"latitude\",\n",
    "                       \"Longitude (average)\": \"longitude\"}, \n",
    "                        inplace = True)\n",
    "coord_df_2 = coord_df_2[['country', 'country_code', 'latitude', 'longitude']]"
   ]
  },
  {
   "cell_type": "code",
   "execution_count": 16,
   "id": "ed30ebc1-928b-4ae1-b9d4-49a151918ff3",
   "metadata": {},
   "outputs": [],
   "source": [
    "num_list = ['latitude', 'longitude']\n",
    "coord_df_2[num_list] = coord_df_2[num_list].apply(pd.to_numeric, errors='coerce')"
   ]
  },
  {
   "cell_type": "code",
   "execution_count": 17,
   "id": "72f008ba-d6bc-4f23-889c-ee537d6fe40d",
   "metadata": {},
   "outputs": [],
   "source": [
    "# standardize\n",
    "coord_df_2 = coord_df_2.applymap(lambda s:s.lower() if type(s) == str else s)"
   ]
  },
  {
   "cell_type": "code",
   "execution_count": 18,
   "id": "aa4a03be-1a01-4cff-b7b2-7713adaed003",
   "metadata": {},
   "outputs": [
    {
     "data": {
      "text/html": [
       "<div>\n",
       "<style scoped>\n",
       "    .dataframe tbody tr th:only-of-type {\n",
       "        vertical-align: middle;\n",
       "    }\n",
       "\n",
       "    .dataframe tbody tr th {\n",
       "        vertical-align: top;\n",
       "    }\n",
       "\n",
       "    .dataframe thead th {\n",
       "        text-align: right;\n",
       "    }\n",
       "</style>\n",
       "<table border=\"1\" class=\"dataframe\">\n",
       "  <thead>\n",
       "    <tr style=\"text-align: right;\">\n",
       "      <th></th>\n",
       "      <th>country_code</th>\n",
       "      <th>latitude</th>\n",
       "      <th>longitude</th>\n",
       "    </tr>\n",
       "  </thead>\n",
       "  <tbody>\n",
       "    <tr>\n",
       "      <th>0</th>\n",
       "      <td>af</td>\n",
       "      <td>33.0000</td>\n",
       "      <td>65.0</td>\n",
       "    </tr>\n",
       "    <tr>\n",
       "      <th>1</th>\n",
       "      <td>al</td>\n",
       "      <td>41.0000</td>\n",
       "      <td>20.0</td>\n",
       "    </tr>\n",
       "    <tr>\n",
       "      <th>2</th>\n",
       "      <td>dz</td>\n",
       "      <td>28.0000</td>\n",
       "      <td>3.0</td>\n",
       "    </tr>\n",
       "    <tr>\n",
       "      <th>3</th>\n",
       "      <td>as</td>\n",
       "      <td>-14.3333</td>\n",
       "      <td>-170.0</td>\n",
       "    </tr>\n",
       "    <tr>\n",
       "      <th>4</th>\n",
       "      <td>ad</td>\n",
       "      <td>42.5000</td>\n",
       "      <td>1.6</td>\n",
       "    </tr>\n",
       "  </tbody>\n",
       "</table>\n",
       "</div>"
      ],
      "text/plain": [
       "  country_code  latitude  longitude\n",
       "0           af   33.0000       65.0\n",
       "1           al   41.0000       20.0\n",
       "2           dz   28.0000        3.0\n",
       "3           as  -14.3333     -170.0\n",
       "4           ad   42.5000        1.6"
      ]
     },
     "execution_count": 18,
     "metadata": {},
     "output_type": "execute_result"
    }
   ],
   "source": [
    "coord_df_filt2 = coord_df_2.copy()[['country_code','latitude', 'longitude']]\n",
    "coord_df_filt2.dropna(inplace=True)\n",
    "coord_df_filt2.head()"
   ]
  },
  {
   "cell_type": "markdown",
   "id": "32ea7e3a-3e29-42d8-9603-15d871cf19f6",
   "metadata": {},
   "source": [
    "## Join dataframes"
   ]
  },
  {
   "cell_type": "markdown",
   "id": "72644ff8-bebd-4d44-b5b0-36a4229a0334",
   "metadata": {},
   "source": [
    "- Isolated Countries"
   ]
  },
  {
   "cell_type": "code",
   "execution_count": 19,
   "id": "ffee0a08-adb8-430e-af0e-d38a6f0f4a9d",
   "metadata": {},
   "outputs": [
    {
     "data": {
      "text/html": [
       "<div>\n",
       "<style scoped>\n",
       "    .dataframe tbody tr th:only-of-type {\n",
       "        vertical-align: middle;\n",
       "    }\n",
       "\n",
       "    .dataframe tbody tr th {\n",
       "        vertical-align: top;\n",
       "    }\n",
       "\n",
       "    .dataframe thead th {\n",
       "        text-align: right;\n",
       "    }\n",
       "</style>\n",
       "<table border=\"1\" class=\"dataframe\">\n",
       "  <thead>\n",
       "    <tr style=\"text-align: right;\">\n",
       "      <th></th>\n",
       "      <th>country_code</th>\n",
       "      <th>country</th>\n",
       "      <th>neighbor_code</th>\n",
       "      <th>neighbor</th>\n",
       "      <th>latitude</th>\n",
       "      <th>longitude</th>\n",
       "      <th>continent</th>\n",
       "    </tr>\n",
       "  </thead>\n",
       "  <tbody>\n",
       "    <tr>\n",
       "      <th>0</th>\n",
       "      <td>ag</td>\n",
       "      <td>antigua and barbuda</td>\n",
       "      <td>NaN</td>\n",
       "      <td>NaN</td>\n",
       "      <td>17.116667</td>\n",
       "      <td>-61.85</td>\n",
       "      <td>north america</td>\n",
       "    </tr>\n",
       "    <tr>\n",
       "      <th>1</th>\n",
       "      <td>ai</td>\n",
       "      <td>anguilla</td>\n",
       "      <td>NaN</td>\n",
       "      <td>NaN</td>\n",
       "      <td>18.216667</td>\n",
       "      <td>-63.05</td>\n",
       "      <td>north america</td>\n",
       "    </tr>\n",
       "  </tbody>\n",
       "</table>\n",
       "</div>"
      ],
      "text/plain": [
       "  country_code              country neighbor_code neighbor   latitude  \\\n",
       "0           ag  antigua and barbuda           NaN      NaN  17.116667   \n",
       "1           ai             anguilla           NaN      NaN  18.216667   \n",
       "\n",
       "   longitude      continent  \n",
       "0     -61.85  north america  \n",
       "1     -63.05  north america  "
      ]
     },
     "execution_count": 19,
     "metadata": {},
     "output_type": "execute_result"
    }
   ],
   "source": [
    "full_df_iso = pd.merge(df_no_neighbors, coord_df_filt, on='country_code', how='inner')\n",
    "full_df_iso.head(2)"
   ]
  },
  {
   "cell_type": "markdown",
   "id": "0cca1faa-d860-4dc0-93fc-d2afd81342c2",
   "metadata": {},
   "source": [
    "- Other Countries"
   ]
  },
  {
   "cell_type": "code",
   "execution_count": 20,
   "id": "bae08646-7f54-425f-b154-e258738f8114",
   "metadata": {},
   "outputs": [
    {
     "data": {
      "text/html": [
       "<div>\n",
       "<style scoped>\n",
       "    .dataframe tbody tr th:only-of-type {\n",
       "        vertical-align: middle;\n",
       "    }\n",
       "\n",
       "    .dataframe tbody tr th {\n",
       "        vertical-align: top;\n",
       "    }\n",
       "\n",
       "    .dataframe thead th {\n",
       "        text-align: right;\n",
       "    }\n",
       "</style>\n",
       "<table border=\"1\" class=\"dataframe\">\n",
       "  <thead>\n",
       "    <tr style=\"text-align: right;\">\n",
       "      <th></th>\n",
       "      <th>country_code</th>\n",
       "      <th>country</th>\n",
       "      <th>neighbor_code</th>\n",
       "      <th>neighbor</th>\n",
       "      <th>latitude</th>\n",
       "      <th>longitude</th>\n",
       "      <th>continent</th>\n",
       "    </tr>\n",
       "  </thead>\n",
       "  <tbody>\n",
       "    <tr>\n",
       "      <th>0</th>\n",
       "      <td>ad</td>\n",
       "      <td>andorra</td>\n",
       "      <td>fr</td>\n",
       "      <td>france</td>\n",
       "      <td>42.5</td>\n",
       "      <td>1.516667</td>\n",
       "      <td>europe</td>\n",
       "    </tr>\n",
       "    <tr>\n",
       "      <th>1</th>\n",
       "      <td>ad</td>\n",
       "      <td>andorra</td>\n",
       "      <td>es</td>\n",
       "      <td>spain</td>\n",
       "      <td>42.5</td>\n",
       "      <td>1.516667</td>\n",
       "      <td>europe</td>\n",
       "    </tr>\n",
       "  </tbody>\n",
       "</table>\n",
       "</div>"
      ],
      "text/plain": [
       "  country_code  country neighbor_code neighbor  latitude  longitude continent\n",
       "0           ad  andorra            fr   france      42.5   1.516667    europe\n",
       "1           ad  andorra            es    spain      42.5   1.516667    europe"
      ]
     },
     "execution_count": 20,
     "metadata": {},
     "output_type": "execute_result"
    }
   ],
   "source": [
    "# First approach\n",
    "full_df = pd.merge(brd_df, coord_df_filt, on='country_code', how='inner')\n",
    "full_df.head(2)"
   ]
  },
  {
   "cell_type": "code",
   "execution_count": 21,
   "id": "354e2cde-9ae2-4e37-842c-10d88d61bf25",
   "metadata": {},
   "outputs": [
    {
     "data": {
      "text/html": [
       "<div>\n",
       "<style scoped>\n",
       "    .dataframe tbody tr th:only-of-type {\n",
       "        vertical-align: middle;\n",
       "    }\n",
       "\n",
       "    .dataframe tbody tr th {\n",
       "        vertical-align: top;\n",
       "    }\n",
       "\n",
       "    .dataframe thead th {\n",
       "        text-align: right;\n",
       "    }\n",
       "</style>\n",
       "<table border=\"1\" class=\"dataframe\">\n",
       "  <thead>\n",
       "    <tr style=\"text-align: right;\">\n",
       "      <th></th>\n",
       "      <th>country_code</th>\n",
       "      <th>country</th>\n",
       "      <th>neighbor_code</th>\n",
       "      <th>neighbor</th>\n",
       "      <th>latitude</th>\n",
       "      <th>longitude</th>\n",
       "    </tr>\n",
       "  </thead>\n",
       "  <tbody>\n",
       "    <tr>\n",
       "      <th>0</th>\n",
       "      <td>ad</td>\n",
       "      <td>andorra</td>\n",
       "      <td>fr</td>\n",
       "      <td>france</td>\n",
       "      <td>42.5</td>\n",
       "      <td>1.6</td>\n",
       "    </tr>\n",
       "    <tr>\n",
       "      <th>1</th>\n",
       "      <td>ad</td>\n",
       "      <td>andorra</td>\n",
       "      <td>es</td>\n",
       "      <td>spain</td>\n",
       "      <td>42.5</td>\n",
       "      <td>1.6</td>\n",
       "    </tr>\n",
       "  </tbody>\n",
       "</table>\n",
       "</div>"
      ],
      "text/plain": [
       "  country_code  country neighbor_code neighbor  latitude  longitude\n",
       "0           ad  andorra            fr   france      42.5        1.6\n",
       "1           ad  andorra            es    spain      42.5        1.6"
      ]
     },
     "execution_count": 21,
     "metadata": {},
     "output_type": "execute_result"
    }
   ],
   "source": [
    "# second approach\n",
    "full_df2 = pd.merge(brd_df, coord_df_filt2, on='country_code', how='inner')\n",
    "full_df2.head(2)"
   ]
  },
  {
   "cell_type": "markdown",
   "id": "ed0d5974-3834-4fc5-8eb2-624eb06d24a2",
   "metadata": {},
   "source": [
    "## Create dictionary of coordinates"
   ]
  },
  {
   "cell_type": "code",
   "execution_count": 22,
   "id": "ac393777-f8fc-4622-844e-b3acf1edba42",
   "metadata": {},
   "outputs": [],
   "source": [
    "scale_factor = 25"
   ]
  },
  {
   "cell_type": "markdown",
   "id": "fd62d32c-1bb0-498e-9d4a-b6968ea1228a",
   "metadata": {},
   "source": [
    "- Coordinates for isolated countries"
   ]
  },
  {
   "cell_type": "code",
   "execution_count": 23,
   "id": "15945dfb-9a1f-43bd-aba3-080a57e2b250",
   "metadata": {},
   "outputs": [],
   "source": [
    "## isolated nodes\n",
    "\n",
    "## Dictionary with positions\n",
    "coords_iso = list(zip(full_df_iso['longitude'], full_df_iso['latitude']))\n",
    "dic_coords_iso = {}\n",
    "# create dictionary with positions\n",
    "for pos, country_c in enumerate(full_df_iso['country_code']):\n",
    "    dic_coords_iso[country_c] = coords_iso[pos]\n",
    "\n",
    "## Lat and Lon\n",
    "lat_iso = {}\n",
    "lon_iso = {}\n",
    "# create dictionary with positions\n",
    "for pos, country_c in enumerate(full_df_iso['country_code']):\n",
    "    lon_iso[country_c] = full_df_iso['longitude'][pos]*scale_factor\n",
    "    lat_iso[country_c] = full_df_iso['latitude'][pos]*-1*scale_factor"
   ]
  },
  {
   "cell_type": "markdown",
   "id": "b4a8fc5e-6ccb-4a55-bf5c-554d5e5c0f84",
   "metadata": {},
   "source": [
    "- Coordinates of capitals"
   ]
  },
  {
   "cell_type": "code",
   "execution_count": 24,
   "id": "64f154e4-9ca5-4ced-aed1-d5365991a9f8",
   "metadata": {},
   "outputs": [],
   "source": [
    "## to include as attribute\n",
    "coords = list(zip(full_df['longitude'], full_df['latitude']))\n",
    "dic_coords = {}\n",
    "# create dictionary with positions\n",
    "for pos, country_c in enumerate(full_df['country_code']):\n",
    "    dic_coords[country_c] = coords[pos]\n",
    "## https://stackoverflow.com/questions/42272710/networkx-how-to-assign-the-node-coordinates-as-attribute"
   ]
  },
  {
   "cell_type": "markdown",
   "id": "c3bc0f62-5be7-4feb-8aea-6ea71da2c52b",
   "metadata": {},
   "source": [
    "- Coordinates (average)"
   ]
  },
  {
   "cell_type": "code",
   "execution_count": 25,
   "id": "ea7abda7",
   "metadata": {},
   "outputs": [],
   "source": [
    "## to include as attribute\n",
    "coords2 = list(zip(full_df2['longitude'], full_df2['latitude']))\n",
    "dic_coords2 = {}\n",
    "# create dictionary with positions\n",
    "for pos, country_c in enumerate(full_df2['country_code']):\n",
    "    dic_coords2[country_c] = coords2[pos]\n",
    "## https://stackoverflow.com/questions/42272710/networkx-how-to-assign-the-node-coordinates-as-attribute"
   ]
  },
  {
   "cell_type": "code",
   "execution_count": 26,
   "id": "93725a10-9a80-4f86-b3ba-79f1d4974017",
   "metadata": {},
   "outputs": [],
   "source": [
    "## to include as attribute\n",
    "lat = {}\n",
    "lon = {}\n",
    "# create dictionary with positions\n",
    "for pos, country_c in enumerate(full_df2['country_code']):\n",
    "    lon[country_c] = full_df2['longitude'][pos]*scale_factor\n",
    "    lat[country_c] = full_df2['latitude'][pos]*-1*scale_factor\n",
    "## https://stackoverflow.com/questions/42272710/networkx-how-to-assign-the-node-coordinates-as-attribute"
   ]
  },
  {
   "cell_type": "markdown",
   "id": "049009a4-b200-4fd1-ac0c-c8776aa4195a",
   "metadata": {},
   "source": [
    "## Graph"
   ]
  },
  {
   "cell_type": "markdown",
   "id": "3a9f3f51-4580-46bb-b707-9d4fa2b9fb1c",
   "metadata": {},
   "source": [
    "- Isolated countries"
   ]
  },
  {
   "cell_type": "code",
   "execution_count": 27,
   "id": "89af4493-d066-49fa-ad6d-425bc606349f",
   "metadata": {},
   "outputs": [
    {
     "data": {
      "image/png": "[encoded data removed]",
      "text/plain": [
       "<Figure size 432x288 with 1 Axes>"
      ]
     },
     "metadata": {},
     "output_type": "display_data"
    }
   ],
   "source": [
    "iso_countries = full_df_iso[['country_code']].set_index('country_code').to_dict('index')\n",
    "G_iso = nx.Graph(iso_countries)\n",
    "nx.set_node_attributes(G_iso, lon_iso, 'x')\n",
    "nx.set_node_attributes(G_iso, lat_iso, 'y')\n",
    "\n",
    "nx.draw(G_iso, pos=dic_coords_iso , with_labels=True)\n",
    "plt.show()"
   ]
  },
  {
   "cell_type": "markdown",
   "id": "d3b124d3-4553-4043-964d-ab912bd4d2e2",
   "metadata": {},
   "source": [
    "- Other countries"
   ]
  },
  {
   "cell_type": "code",
   "execution_count": 28,
   "id": "55190825",
   "metadata": {},
   "outputs": [
    {
     "data": {
      "image/png": "[encoded data removed]",
      "text/plain": [
       "<Figure size 432x288 with 1 Axes>"
      ]
     },
     "metadata": {},
     "output_type": "display_data"
    }
   ],
   "source": [
    "G = nx.Graph()\n",
    "G = nx.from_pandas_edgelist(full_df, 'country_code', 'neighbor_code')\n",
    "nx.set_node_attributes(G, dic_coords, 'coord')\n",
    "\n",
    "nx.draw(G, pos=dic_coords , with_labels=True)\n",
    "plt.show()"
   ]
  },
  {
   "cell_type": "code",
   "execution_count": 29,
   "id": "930ffe2e-5f3f-45aa-aa13-dd6a478cba1d",
   "metadata": {},
   "outputs": [],
   "source": [
    "#{**dic_coords_iso, **dic_coords2}"
   ]
  },
  {
   "cell_type": "code",
   "execution_count": 30,
   "id": "aa29a483-6641-4e8d-a369-34cf3b89ff45",
   "metadata": {},
   "outputs": [
    {
     "data": {
      "image/png": "[encoded data removed]",
      "text/plain": [
       "<Figure size 432x288 with 1 Axes>"
      ]
     },
     "metadata": {},
     "output_type": "display_data"
    }
   ],
   "source": [
    "F = nx.compose(G,G_iso)\n",
    "nx.draw(F, pos={**dic_coords_iso, **dic_coords}, with_labels=True)\n",
    "plt.show()\n"
   ]
  },
  {
   "cell_type": "markdown",
   "id": "113345b2",
   "metadata": {},
   "source": [
    "## Adding flags as attribute"
   ]
  },
  {
   "cell_type": "code",
   "execution_count": 31,
   "id": "76da2d8b-93e0-42fc-b8de-f370d5921603",
   "metadata": {},
   "outputs": [],
   "source": [
    "## Create dictionary of flags\n",
    "dic_flags_iso = {}\n",
    "for pos, country_c in enumerate(full_df_iso['country_code']):\n",
    "    dic_flags_iso[country_c] = '../data/flags/' + country_c + '.png'"
   ]
  },
  {
   "cell_type": "code",
   "execution_count": 32,
   "id": "b9a9da51",
   "metadata": {},
   "outputs": [],
   "source": [
    "## Create dictionary of flags\n",
    "dic_flags = {}\n",
    "for pos, country_c in enumerate(full_df['country_code']):\n",
    "    dic_flags[country_c] = '../data/flags/' + country_c + '.png'"
   ]
  },
  {
   "cell_type": "code",
   "execution_count": 33,
   "id": "e8bae8a5",
   "metadata": {},
   "outputs": [],
   "source": [
    "nx.set_node_attributes(G, dic_flags, 'image')"
   ]
  },
  {
   "cell_type": "markdown",
   "id": "4c96a455-670d-4b6e-ba02-521d16218ed9",
   "metadata": {},
   "source": [
    "## Number of neightbors\n"
   ]
  },
  {
   "cell_type": "code",
   "execution_count": 34,
   "id": "01e781c1-3e81-44bd-b14d-a97616de08a7",
   "metadata": {},
   "outputs": [],
   "source": [
    "scale_factor_size = 15"
   ]
  },
  {
   "cell_type": "code",
   "execution_count": 35,
   "id": "784f3f75-2b13-4b51-bb5b-f8312a07cd3e",
   "metadata": {},
   "outputs": [],
   "source": [
    "# isolated\n",
    "dic_weight_iso = {}\n",
    "# create dictionary with positions\n",
    "for country_c in full_df_iso['country_code']:\n",
    "    dic_weight_iso[country_c] = scale_factor_size\n",
    "    \n",
    "nx.set_node_attributes(G_iso, dic_weight_iso, 'value')"
   ]
  },
  {
   "cell_type": "code",
   "execution_count": 36,
   "id": "dbf0ff83-fac9-4759-901f-d175fdfa990b",
   "metadata": {},
   "outputs": [],
   "source": [
    "weigths = full_df.set_index([\"country_code\", \"neighbor\"]).count(level=\"country_code\")['country'].reset_index()\n",
    "\n",
    "dic_weight = {}\n",
    "# create dictionary with positions\n",
    "for pos, country_c in enumerate(weigths['country_code']):\n",
    "    dic_weight[country_c] = int(weigths['country'][pos])*scale_factor_size"
   ]
  },
  {
   "cell_type": "code",
   "execution_count": 37,
   "id": "9fda7200-0f0b-4d99-b8c0-f14208b4056c",
   "metadata": {},
   "outputs": [],
   "source": [
    "w_lst = weigths['country'].to_numpy().tolist()"
   ]
  },
  {
   "cell_type": "code",
   "execution_count": 38,
   "id": "eb1d4709",
   "metadata": {},
   "outputs": [],
   "source": [
    "nx.set_node_attributes(G, dic_weight, 'value')"
   ]
  },
  {
   "cell_type": "markdown",
   "id": "75b5acfa-3679-45d7-9a6f-15e04f4f20cb",
   "metadata": {},
   "source": [
    "## Full graph"
   ]
  },
  {
   "cell_type": "code",
   "execution_count": 39,
   "id": "b8f20dd8-715b-48e2-be72-b94364ff69d8",
   "metadata": {},
   "outputs": [],
   "source": [
    "G_iso = nx.Graph(iso_countries)\n",
    "nx.set_node_attributes(G_iso, dic_flags_iso, 'image')\n",
    "nx.set_node_attributes(G_iso, lon_iso, 'x')\n",
    "nx.set_node_attributes(G_iso, lat_iso, 'y')\n",
    "nx.set_node_attributes(G_iso, dic_coords_iso, 'coord')\n",
    "nx.set_node_attributes(G_iso, dic_weight_iso, 'size')\n"
   ]
  },
  {
   "cell_type": "code",
   "execution_count": 40,
   "id": "b11ed14b-b895-4b43-880b-35f6b0b6d06f",
   "metadata": {},
   "outputs": [],
   "source": [
    "G = nx.Graph()\n",
    "G = nx.from_pandas_edgelist(full_df, 'country_code', 'neighbor_code')\n",
    "nx.set_node_attributes(G, dic_flags, 'image')\n",
    "nx.set_node_attributes(G, lon, 'x')\n",
    "nx.set_node_attributes(G, lat, 'y')\n",
    "nx.set_node_attributes(G, dic_coords, 'coord')\n",
    "nx.set_node_attributes(G, dic_weight, 'size')\n",
    "\n",
    "# extrange nodes: investigate what is going on\n",
    "G.remove_node('mf')\n",
    "G.remove_node('sx')"
   ]
  },
  {
   "cell_type": "code",
   "execution_count": 41,
   "id": "2d020b1e-fc35-428b-9ca4-288d895b9d90",
   "metadata": {},
   "outputs": [],
   "source": [
    "## World graph\n",
    "F = nx.compose(G, G_iso)"
   ]
  },
  {
   "cell_type": "markdown",
   "id": "2a44555c",
   "metadata": {},
   "source": [
    "# Using [`pyvis`](https://pyvis.readthedocs.io/en/latest/index.html)"
   ]
  },
  {
   "cell_type": "code",
   "execution_count": 44,
   "id": "41d77796",
   "metadata": {},
   "outputs": [
    {
     "data": {
      "text/html": [
       "\n",
       "        <iframe\n",
       "            width=\"100%\"\n",
       "            height=\"100%\"\n",
       "            src=\"graph.html\"\n",
       "            frameborder=\"0\"\n",
       "            allowfullscreen\n",
       "        ></iframe>\n",
       "        "
      ],
      "text/plain": [
       "<IPython.lib.display.IFrame at 0x7f479e4a8e20>"
      ]
     },
     "execution_count": 44,
     "metadata": {},
     "output_type": "execute_result"
    }
   ],
   "source": [
    "utils.draw_graph3(F, \n",
    "            notebook=True,\n",
    "            output_filename='graph.html',\n",
    "            show_buttons=False,\n",
    "            only_physics_buttons=False,\n",
    "            height='100%',\n",
    "            width='100%',\n",
    "            bgcolor='#000433',\n",
    "            font_color=None,\n",
    "            pyvis_options=None,\n",
    "            p_type=True)"
   ]
  }
 ],
 "metadata": {
  "kernelspec": {
   "display_name": "Python 3",
   "language": "python",
   "name": "python3"
  },
  "language_info": {
   "codemirror_mode": {
    "name": "ipython",
    "version": 3
   },
   "file_extension": ".py",
   "mimetype": "text/x-python",
   "name": "python",
   "nbconvert_exporter": "python",
   "pygments_lexer": "ipython3",
   "version": "3.9.4"
  }
 },
 "nbformat": 4,
 "nbformat_minor": 5
}
