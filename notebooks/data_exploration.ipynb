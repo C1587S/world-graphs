{
 "cells": [
  {
   "cell_type": "code",
   "execution_count": 59,
   "id": "9dda1aec-0d75-4713-98ab-8ac9acf273c1",
   "metadata": {},
   "outputs": [],
   "source": [
    "import unicodedata\n",
    "import igviz as ig\n",
    "import matplotlib.pyplot as plt\n",
    "import networkx as nx\n",
    "import pandas as pd\n",
    "import sys\n",
    "\n",
    "sys.path.append('../src')\n",
    "import utils\n",
    "\n",
    "pd.set_option('display.max_rows', None)\n",
    "pd.set_option('display.max_columns', None)\n",
    "pd.options.mode.chained_assignment = None  # default='warn'"
   ]
  },
  {
   "cell_type": "markdown",
   "id": "0f6871c9-02c2-44d1-8915-d9a6ba088cc3",
   "metadata": {},
   "source": [
    "## Borders dataset \n",
    "Taken from: \n",
    "    https://github.com/geodatasource/country-borders"
   ]
  },
  {
   "cell_type": "code",
   "execution_count": 4,
   "id": "949a12bf-75ae-46bf-ac10-97322acbc975",
   "metadata": {},
   "outputs": [
    {
     "data": {
      "text/html": [
       "<div>\n",
       "<style scoped>\n",
       "    .dataframe tbody tr th:only-of-type {\n",
       "        vertical-align: middle;\n",
       "    }\n",
       "\n",
       "    .dataframe tbody tr th {\n",
       "        vertical-align: top;\n",
       "    }\n",
       "\n",
       "    .dataframe thead th {\n",
       "        text-align: right;\n",
       "    }\n",
       "</style>\n",
       "<table border=\"1\" class=\"dataframe\">\n",
       "  <thead>\n",
       "    <tr style=\"text-align: right;\">\n",
       "      <th></th>\n",
       "      <th>country_code</th>\n",
       "      <th>country_name</th>\n",
       "      <th>country_border_code</th>\n",
       "      <th>country_border_name</th>\n",
       "    </tr>\n",
       "  </thead>\n",
       "  <tbody>\n",
       "    <tr>\n",
       "      <th>0</th>\n",
       "      <td>AD</td>\n",
       "      <td>Andorra</td>\n",
       "      <td>FR</td>\n",
       "      <td>France</td>\n",
       "    </tr>\n",
       "    <tr>\n",
       "      <th>1</th>\n",
       "      <td>AD</td>\n",
       "      <td>Andorra</td>\n",
       "      <td>ES</td>\n",
       "      <td>Spain</td>\n",
       "    </tr>\n",
       "    <tr>\n",
       "      <th>2</th>\n",
       "      <td>AE</td>\n",
       "      <td>United Arab Emirates</td>\n",
       "      <td>OM</td>\n",
       "      <td>Oman</td>\n",
       "    </tr>\n",
       "    <tr>\n",
       "      <th>3</th>\n",
       "      <td>AE</td>\n",
       "      <td>United Arab Emirates</td>\n",
       "      <td>SA</td>\n",
       "      <td>Saudi Arabia</td>\n",
       "    </tr>\n",
       "    <tr>\n",
       "      <th>4</th>\n",
       "      <td>AF</td>\n",
       "      <td>Afghanistan</td>\n",
       "      <td>CN</td>\n",
       "      <td>China</td>\n",
       "    </tr>\n",
       "  </tbody>\n",
       "</table>\n",
       "</div>"
      ],
      "text/plain": [
       "  country_code          country_name country_border_code country_border_name\n",
       "0           AD               Andorra                  FR              France\n",
       "1           AD               Andorra                  ES               Spain\n",
       "2           AE  United Arab Emirates                  OM                Oman\n",
       "3           AE  United Arab Emirates                  SA        Saudi Arabia\n",
       "4           AF           Afghanistan                  CN               China"
      ]
     },
     "execution_count": 4,
     "metadata": {},
     "output_type": "execute_result"
    }
   ],
   "source": [
    "brd_df = pd.read_csv('../data/land_borders.CSV')\n",
    "brd_df.head()"
   ]
  },
  {
   "cell_type": "code",
   "execution_count": 5,
   "id": "aa80eca3-1531-4969-9eb6-900719458077",
   "metadata": {},
   "outputs": [],
   "source": [
    "# standardize\n",
    "brd_df = brd_df.applymap(lambda s:s.lower() if type(s) == str else s)\n",
    "brd_df = brd_df.dropna()"
   ]
  },
  {
   "cell_type": "code",
   "execution_count": 6,
   "id": "b4a51bc0-2e30-45a7-9168-ca0b7b6cca43",
   "metadata": {},
   "outputs": [],
   "source": [
    "# rename columns\n",
    "brd_df.rename(columns={\"country_name\": \"country\",\n",
    "                   \"country_code\": \"country_code\",\n",
    "                   \"country_border_name\": \"neighbor\", \n",
    "                   \"country_border_code\":  \"neighbor_code\"}, inplace = True)"
   ]
  },
  {
   "cell_type": "code",
   "execution_count": 7,
   "id": "47b1c8f9-01ed-4848-8abb-340b94478edb",
   "metadata": {},
   "outputs": [
    {
     "data": {
      "text/html": [
       "<div>\n",
       "<style scoped>\n",
       "    .dataframe tbody tr th:only-of-type {\n",
       "        vertical-align: middle;\n",
       "    }\n",
       "\n",
       "    .dataframe tbody tr th {\n",
       "        vertical-align: top;\n",
       "    }\n",
       "\n",
       "    .dataframe thead th {\n",
       "        text-align: right;\n",
       "    }\n",
       "</style>\n",
       "<table border=\"1\" class=\"dataframe\">\n",
       "  <thead>\n",
       "    <tr style=\"text-align: right;\">\n",
       "      <th></th>\n",
       "      <th>country_code</th>\n",
       "      <th>country</th>\n",
       "      <th>neighbor_code</th>\n",
       "      <th>neighbor</th>\n",
       "    </tr>\n",
       "  </thead>\n",
       "  <tbody>\n",
       "    <tr>\n",
       "      <th>0</th>\n",
       "      <td>ad</td>\n",
       "      <td>andorra</td>\n",
       "      <td>fr</td>\n",
       "      <td>france</td>\n",
       "    </tr>\n",
       "    <tr>\n",
       "      <th>1</th>\n",
       "      <td>ad</td>\n",
       "      <td>andorra</td>\n",
       "      <td>es</td>\n",
       "      <td>spain</td>\n",
       "    </tr>\n",
       "    <tr>\n",
       "      <th>2</th>\n",
       "      <td>ae</td>\n",
       "      <td>united arab emirates</td>\n",
       "      <td>om</td>\n",
       "      <td>oman</td>\n",
       "    </tr>\n",
       "    <tr>\n",
       "      <th>3</th>\n",
       "      <td>ae</td>\n",
       "      <td>united arab emirates</td>\n",
       "      <td>sa</td>\n",
       "      <td>saudi arabia</td>\n",
       "    </tr>\n",
       "    <tr>\n",
       "      <th>4</th>\n",
       "      <td>af</td>\n",
       "      <td>afghanistan</td>\n",
       "      <td>cn</td>\n",
       "      <td>china</td>\n",
       "    </tr>\n",
       "  </tbody>\n",
       "</table>\n",
       "</div>"
      ],
      "text/plain": [
       "  country_code               country neighbor_code      neighbor\n",
       "0           ad               andorra            fr        france\n",
       "1           ad               andorra            es         spain\n",
       "2           ae  united arab emirates            om          oman\n",
       "3           ae  united arab emirates            sa  saudi arabia\n",
       "4           af           afghanistan            cn         china"
      ]
     },
     "execution_count": 7,
     "metadata": {},
     "output_type": "execute_result"
    }
   ],
   "source": [
    "brd_df.head()"
   ]
  },
  {
   "cell_type": "markdown",
   "id": "be558f8a-290a-45bf-80c6-ee28475f7c71",
   "metadata": {},
   "source": [
    "## Coordinates dataset  \n",
    "\n",
    "WorkBank API: http://api.worldbank.org/v2/country/?format=json\n",
    "\n",
    "Taken from: \n",
    "    https://gist.github.com/tadast/8827699#file-countries_codes_and_coordinates-csv"
   ]
  },
  {
   "cell_type": "code",
   "execution_count": 8,
   "id": "9138990c-2d4a-41c4-92d0-4356c03d8ef0",
   "metadata": {},
   "outputs": [],
   "source": [
    "# http://techslides.com/list-of-countries-and-capitals#google_vignette\n",
    "coord_df = pd.read_csv('../data/country-capitals.csv')"
   ]
  },
  {
   "cell_type": "code",
   "execution_count": 10,
   "id": "18ff48ab-7c56-4246-b820-d0227b1830db",
   "metadata": {},
   "outputs": [],
   "source": [
    "new_row = {'CountryName': 'French Guiana', \n",
    "           'CapitalName': 'Cayenne', \n",
    "           'CapitalLatitude':4.9372, \n",
    "           'CapitalLongitude':-52.326, \n",
    "           'CountryCode':'GF',\n",
    "           'ContinentName': 'America'}\n",
    "#append row to the dataframe\n",
    "coord_df = coord_df.append(new_row, ignore_index=True)"
   ]
  },
  {
   "cell_type": "code",
   "execution_count": 11,
   "id": "a9c3d156-0242-43c4-8a39-768030901efb",
   "metadata": {},
   "outputs": [
    {
     "data": {
      "text/html": [
       "<div>\n",
       "<style scoped>\n",
       "    .dataframe tbody tr th:only-of-type {\n",
       "        vertical-align: middle;\n",
       "    }\n",
       "\n",
       "    .dataframe tbody tr th {\n",
       "        vertical-align: top;\n",
       "    }\n",
       "\n",
       "    .dataframe thead th {\n",
       "        text-align: right;\n",
       "    }\n",
       "</style>\n",
       "<table border=\"1\" class=\"dataframe\">\n",
       "  <thead>\n",
       "    <tr style=\"text-align: right;\">\n",
       "      <th></th>\n",
       "      <th>CountryName</th>\n",
       "      <th>CapitalName</th>\n",
       "      <th>CapitalLatitude</th>\n",
       "      <th>CapitalLongitude</th>\n",
       "      <th>CountryCode</th>\n",
       "      <th>ContinentName</th>\n",
       "    </tr>\n",
       "  </thead>\n",
       "  <tbody>\n",
       "    <tr>\n",
       "      <th>240</th>\n",
       "      <td>hong kong</td>\n",
       "      <td>NaN</td>\n",
       "      <td>0.0000</td>\n",
       "      <td>0.000</td>\n",
       "      <td>hk</td>\n",
       "      <td>asia</td>\n",
       "    </tr>\n",
       "    <tr>\n",
       "      <th>241</th>\n",
       "      <td>heard island and mcdonald islands</td>\n",
       "      <td>NaN</td>\n",
       "      <td>0.0000</td>\n",
       "      <td>0.000</td>\n",
       "      <td>hm</td>\n",
       "      <td>antarctica</td>\n",
       "    </tr>\n",
       "    <tr>\n",
       "      <th>242</th>\n",
       "      <td>british indian ocean territory</td>\n",
       "      <td>diego garcia</td>\n",
       "      <td>-7.3000</td>\n",
       "      <td>72.400</td>\n",
       "      <td>io</td>\n",
       "      <td>africa</td>\n",
       "    </tr>\n",
       "    <tr>\n",
       "      <th>243</th>\n",
       "      <td>macau</td>\n",
       "      <td>NaN</td>\n",
       "      <td>0.0000</td>\n",
       "      <td>0.000</td>\n",
       "      <td>mo</td>\n",
       "      <td>asia</td>\n",
       "    </tr>\n",
       "    <tr>\n",
       "      <th>244</th>\n",
       "      <td>french guiana</td>\n",
       "      <td>cayenne</td>\n",
       "      <td>4.9372</td>\n",
       "      <td>-52.326</td>\n",
       "      <td>gf</td>\n",
       "      <td>america</td>\n",
       "    </tr>\n",
       "  </tbody>\n",
       "</table>\n",
       "</div>"
      ],
      "text/plain": [
       "                           CountryName   CapitalName  CapitalLatitude  \\\n",
       "240                          hong kong           NaN           0.0000   \n",
       "241  heard island and mcdonald islands           NaN           0.0000   \n",
       "242     british indian ocean territory  diego garcia          -7.3000   \n",
       "243                              macau           NaN           0.0000   \n",
       "244                      french guiana       cayenne           4.9372   \n",
       "\n",
       "     CapitalLongitude CountryCode ContinentName  \n",
       "240             0.000          hk          asia  \n",
       "241             0.000          hm    antarctica  \n",
       "242            72.400          io        africa  \n",
       "243             0.000          mo          asia  \n",
       "244           -52.326          gf       america  "
      ]
     },
     "execution_count": 11,
     "metadata": {},
     "output_type": "execute_result"
    }
   ],
   "source": [
    "# standardize\n",
    "coord_df = coord_df.applymap(lambda s:s.lower() if type(s) == str else s)\n",
    "## removes special characters\n",
    "coord_df = coord_df.applymap(lambda s:unicodedata.normalize('NFD', s).encode('ascii', 'ignore').decode(\"utf-8\") if type(s) == str else s)\n",
    "coord_df.tail()"
   ]
  },
  {
   "cell_type": "code",
   "execution_count": 12,
   "id": "007f8609-4440-4f10-ac56-cf40e8473074",
   "metadata": {},
   "outputs": [
    {
     "data": {
      "text/html": [
       "<div>\n",
       "<style scoped>\n",
       "    .dataframe tbody tr th:only-of-type {\n",
       "        vertical-align: middle;\n",
       "    }\n",
       "\n",
       "    .dataframe tbody tr th {\n",
       "        vertical-align: top;\n",
       "    }\n",
       "\n",
       "    .dataframe thead th {\n",
       "        text-align: right;\n",
       "    }\n",
       "</style>\n",
       "<table border=\"1\" class=\"dataframe\">\n",
       "  <thead>\n",
       "    <tr style=\"text-align: right;\">\n",
       "      <th></th>\n",
       "      <th>country_code</th>\n",
       "      <th>latitude</th>\n",
       "      <th>longitude</th>\n",
       "      <th>continent</th>\n",
       "    </tr>\n",
       "  </thead>\n",
       "  <tbody>\n",
       "    <tr>\n",
       "      <th>1</th>\n",
       "      <td>gs</td>\n",
       "      <td>-54.283333</td>\n",
       "      <td>-36.500000</td>\n",
       "      <td>antarctica</td>\n",
       "    </tr>\n",
       "    <tr>\n",
       "      <th>2</th>\n",
       "      <td>tf</td>\n",
       "      <td>-49.350000</td>\n",
       "      <td>70.216667</td>\n",
       "      <td>antarctica</td>\n",
       "    </tr>\n",
       "    <tr>\n",
       "      <th>3</th>\n",
       "      <td>ps</td>\n",
       "      <td>31.766667</td>\n",
       "      <td>35.233333</td>\n",
       "      <td>asia</td>\n",
       "    </tr>\n",
       "    <tr>\n",
       "      <th>4</th>\n",
       "      <td>ax</td>\n",
       "      <td>60.116667</td>\n",
       "      <td>19.900000</td>\n",
       "      <td>europe</td>\n",
       "    </tr>\n",
       "    <tr>\n",
       "      <th>5</th>\n",
       "      <td>nr</td>\n",
       "      <td>-0.547700</td>\n",
       "      <td>166.920867</td>\n",
       "      <td>australia</td>\n",
       "    </tr>\n",
       "  </tbody>\n",
       "</table>\n",
       "</div>"
      ],
      "text/plain": [
       "  country_code   latitude   longitude   continent\n",
       "1           gs -54.283333  -36.500000  antarctica\n",
       "2           tf -49.350000   70.216667  antarctica\n",
       "3           ps  31.766667   35.233333        asia\n",
       "4           ax  60.116667   19.900000      europe\n",
       "5           nr  -0.547700  166.920867   australia"
      ]
     },
     "execution_count": 12,
     "metadata": {},
     "output_type": "execute_result"
    }
   ],
   "source": [
    "coord_df.rename(columns={\"CountryName\": \"country\",\n",
    "                       \"CapitalName\": \"capital\",\n",
    "                       \"CountryCode\": \"country_code\",\n",
    "                       \"CapitalLongitude\": \"longitude\",\n",
    "                       \"CapitalLatitude\": \"latitude\",\n",
    "                       \"ContinentName\": \"continent\"}, \n",
    "                        inplace = True)\n",
    "\n",
    "coord_df_filt = coord_df.copy()[['country_code','latitude', 'longitude', 'continent']]\n",
    "coord_df_filt.dropna(inplace=True)\n",
    "coord_df_filt.head()"
   ]
  },
  {
   "cell_type": "markdown",
   "id": "38970519",
   "metadata": {},
   "source": [
    "# Using average coordinates for better visualziation"
   ]
  },
  {
   "cell_type": "code",
   "execution_count": 34,
   "id": "c683f156-553d-443b-b919-3d0f86ffb65c",
   "metadata": {},
   "outputs": [
    {
     "data": {
      "text/html": [
       "<div>\n",
       "<style scoped>\n",
       "    .dataframe tbody tr th:only-of-type {\n",
       "        vertical-align: middle;\n",
       "    }\n",
       "\n",
       "    .dataframe tbody tr th {\n",
       "        vertical-align: top;\n",
       "    }\n",
       "\n",
       "    .dataframe thead th {\n",
       "        text-align: right;\n",
       "    }\n",
       "</style>\n",
       "<table border=\"1\" class=\"dataframe\">\n",
       "  <thead>\n",
       "    <tr style=\"text-align: right;\">\n",
       "      <th></th>\n",
       "      <th>Country</th>\n",
       "      <th>Alpha-2 code</th>\n",
       "      <th>Alpha-3 code</th>\n",
       "      <th>Numeric code</th>\n",
       "      <th>Latitude (average)</th>\n",
       "      <th>Longitude (average)</th>\n",
       "    </tr>\n",
       "  </thead>\n",
       "  <tbody>\n",
       "    <tr>\n",
       "      <th>0</th>\n",
       "      <td>Afghanistan</td>\n",
       "      <td>\"AF\"</td>\n",
       "      <td>\"AFG\"</td>\n",
       "      <td>\"4\"</td>\n",
       "      <td>\"33\"</td>\n",
       "      <td>\"65\"</td>\n",
       "    </tr>\n",
       "    <tr>\n",
       "      <th>1</th>\n",
       "      <td>Albania</td>\n",
       "      <td>\"AL\"</td>\n",
       "      <td>\"ALB\"</td>\n",
       "      <td>\"8\"</td>\n",
       "      <td>\"41\"</td>\n",
       "      <td>\"20\"</td>\n",
       "    </tr>\n",
       "    <tr>\n",
       "      <th>2</th>\n",
       "      <td>Algeria</td>\n",
       "      <td>\"DZ\"</td>\n",
       "      <td>\"DZA\"</td>\n",
       "      <td>\"12\"</td>\n",
       "      <td>\"28\"</td>\n",
       "      <td>\"3\"</td>\n",
       "    </tr>\n",
       "    <tr>\n",
       "      <th>3</th>\n",
       "      <td>American Samoa</td>\n",
       "      <td>\"AS\"</td>\n",
       "      <td>\"ASM\"</td>\n",
       "      <td>\"16\"</td>\n",
       "      <td>\"-14.3333\"</td>\n",
       "      <td>\"-170\"</td>\n",
       "    </tr>\n",
       "    <tr>\n",
       "      <th>4</th>\n",
       "      <td>Andorra</td>\n",
       "      <td>\"AD\"</td>\n",
       "      <td>\"AND\"</td>\n",
       "      <td>\"20\"</td>\n",
       "      <td>\"42.5\"</td>\n",
       "      <td>\"1.6\"</td>\n",
       "    </tr>\n",
       "  </tbody>\n",
       "</table>\n",
       "</div>"
      ],
      "text/plain": [
       "          Country Alpha-2 code Alpha-3 code Numeric code Latitude (average)  \\\n",
       "0     Afghanistan         \"AF\"        \"AFG\"          \"4\"               \"33\"   \n",
       "1         Albania         \"AL\"        \"ALB\"          \"8\"               \"41\"   \n",
       "2         Algeria         \"DZ\"        \"DZA\"         \"12\"               \"28\"   \n",
       "3  American Samoa         \"AS\"        \"ASM\"         \"16\"         \"-14.3333\"   \n",
       "4         Andorra         \"AD\"        \"AND\"         \"20\"             \"42.5\"   \n",
       "\n",
       "  Longitude (average)  \n",
       "0                \"65\"  \n",
       "1                \"20\"  \n",
       "2                 \"3\"  \n",
       "3              \"-170\"  \n",
       "4               \"1.6\"  "
      ]
     },
     "execution_count": 34,
     "metadata": {},
     "output_type": "execute_result"
    }
   ],
   "source": [
    "## Other approach\n",
    "coord_df_2 = pd.read_csv('../data/countries_codes_and_coordinates.csv')\n",
    "coord_df_2.head()"
   ]
  },
  {
   "cell_type": "code",
   "execution_count": 35,
   "id": "8d84186b-37d8-4845-96d0-15bca2329efb",
   "metadata": {},
   "outputs": [],
   "source": [
    "# Clean characters\n",
    "coord_df_2[coord_df_2.columns] = coord_df_2[coord_df_2.columns].replace({'\\\"':''}, regex=True)\n",
    "coord_df_2[coord_df_2.columns] = coord_df_2[coord_df_2.columns].replace({' ':''}, regex=True)"
   ]
  },
  {
   "cell_type": "code",
   "execution_count": 36,
   "id": "7ecbda77-0dc5-4fac-956a-16f1a60ec38b",
   "metadata": {},
   "outputs": [],
   "source": [
    "# rename columns\n",
    "coord_df_2.rename(columns={\"Country\": \"country\",\n",
    "                       \"Alpha-2 code\": \"country_code\",\n",
    "                       \"Latitude (average)\": \"latitude\",\n",
    "                       \"Longitude (average)\": \"longitude\"}, \n",
    "                        inplace = True)\n",
    "coord_df_2 = coord_df_2[['country', 'country_code', 'latitude', 'longitude']]"
   ]
  },
  {
   "cell_type": "code",
   "execution_count": 37,
   "id": "ed30ebc1-928b-4ae1-b9d4-49a151918ff3",
   "metadata": {},
   "outputs": [],
   "source": [
    "num_list = ['latitude', 'longitude']\n",
    "coord_df_2[num_list] = coord_df_2[num_list].apply(pd.to_numeric, errors='coerce')"
   ]
  },
  {
   "cell_type": "code",
   "execution_count": 38,
   "id": "72f008ba-d6bc-4f23-889c-ee537d6fe40d",
   "metadata": {},
   "outputs": [],
   "source": [
    "# standardize\n",
    "coord_df_2 = coord_df_2.applymap(lambda s:s.lower() if type(s) == str else s)"
   ]
  },
  {
   "cell_type": "code",
   "execution_count": 39,
   "id": "aa4a03be-1a01-4cff-b7b2-7713adaed003",
   "metadata": {},
   "outputs": [
    {
     "data": {
      "text/html": [
       "<div>\n",
       "<style scoped>\n",
       "    .dataframe tbody tr th:only-of-type {\n",
       "        vertical-align: middle;\n",
       "    }\n",
       "\n",
       "    .dataframe tbody tr th {\n",
       "        vertical-align: top;\n",
       "    }\n",
       "\n",
       "    .dataframe thead th {\n",
       "        text-align: right;\n",
       "    }\n",
       "</style>\n",
       "<table border=\"1\" class=\"dataframe\">\n",
       "  <thead>\n",
       "    <tr style=\"text-align: right;\">\n",
       "      <th></th>\n",
       "      <th>country_code</th>\n",
       "      <th>latitude</th>\n",
       "      <th>longitude</th>\n",
       "    </tr>\n",
       "  </thead>\n",
       "  <tbody>\n",
       "    <tr>\n",
       "      <th>0</th>\n",
       "      <td>af</td>\n",
       "      <td>33.0000</td>\n",
       "      <td>65.0</td>\n",
       "    </tr>\n",
       "    <tr>\n",
       "      <th>1</th>\n",
       "      <td>al</td>\n",
       "      <td>41.0000</td>\n",
       "      <td>20.0</td>\n",
       "    </tr>\n",
       "    <tr>\n",
       "      <th>2</th>\n",
       "      <td>dz</td>\n",
       "      <td>28.0000</td>\n",
       "      <td>3.0</td>\n",
       "    </tr>\n",
       "    <tr>\n",
       "      <th>3</th>\n",
       "      <td>as</td>\n",
       "      <td>-14.3333</td>\n",
       "      <td>-170.0</td>\n",
       "    </tr>\n",
       "    <tr>\n",
       "      <th>4</th>\n",
       "      <td>ad</td>\n",
       "      <td>42.5000</td>\n",
       "      <td>1.6</td>\n",
       "    </tr>\n",
       "  </tbody>\n",
       "</table>\n",
       "</div>"
      ],
      "text/plain": [
       "  country_code  latitude  longitude\n",
       "0           af   33.0000       65.0\n",
       "1           al   41.0000       20.0\n",
       "2           dz   28.0000        3.0\n",
       "3           as  -14.3333     -170.0\n",
       "4           ad   42.5000        1.6"
      ]
     },
     "execution_count": 39,
     "metadata": {},
     "output_type": "execute_result"
    }
   ],
   "source": [
    "coord_df_filt2 = coord_df_2.copy()[['country_code','latitude', 'longitude']]\n",
    "coord_df_filt2.dropna(inplace=True)\n",
    "coord_df_filt2.head()"
   ]
  },
  {
   "cell_type": "markdown",
   "id": "32ea7e3a-3e29-42d8-9603-15d871cf19f6",
   "metadata": {},
   "source": [
    "## Join dataframes"
   ]
  },
  {
   "cell_type": "code",
   "execution_count": 40,
   "id": "bae08646-7f54-425f-b154-e258738f8114",
   "metadata": {},
   "outputs": [
    {
     "data": {
      "text/html": [
       "<div>\n",
       "<style scoped>\n",
       "    .dataframe tbody tr th:only-of-type {\n",
       "        vertical-align: middle;\n",
       "    }\n",
       "\n",
       "    .dataframe tbody tr th {\n",
       "        vertical-align: top;\n",
       "    }\n",
       "\n",
       "    .dataframe thead th {\n",
       "        text-align: right;\n",
       "    }\n",
       "</style>\n",
       "<table border=\"1\" class=\"dataframe\">\n",
       "  <thead>\n",
       "    <tr style=\"text-align: right;\">\n",
       "      <th></th>\n",
       "      <th>country_code</th>\n",
       "      <th>country</th>\n",
       "      <th>neighbor_code</th>\n",
       "      <th>neighbor</th>\n",
       "      <th>latitude</th>\n",
       "      <th>longitude</th>\n",
       "      <th>continent</th>\n",
       "    </tr>\n",
       "  </thead>\n",
       "  <tbody>\n",
       "    <tr>\n",
       "      <th>0</th>\n",
       "      <td>ad</td>\n",
       "      <td>andorra</td>\n",
       "      <td>fr</td>\n",
       "      <td>france</td>\n",
       "      <td>42.500000</td>\n",
       "      <td>1.516667</td>\n",
       "      <td>europe</td>\n",
       "    </tr>\n",
       "    <tr>\n",
       "      <th>1</th>\n",
       "      <td>ad</td>\n",
       "      <td>andorra</td>\n",
       "      <td>es</td>\n",
       "      <td>spain</td>\n",
       "      <td>42.500000</td>\n",
       "      <td>1.516667</td>\n",
       "      <td>europe</td>\n",
       "    </tr>\n",
       "    <tr>\n",
       "      <th>2</th>\n",
       "      <td>ae</td>\n",
       "      <td>united arab emirates</td>\n",
       "      <td>om</td>\n",
       "      <td>oman</td>\n",
       "      <td>24.466667</td>\n",
       "      <td>54.366667</td>\n",
       "      <td>asia</td>\n",
       "    </tr>\n",
       "    <tr>\n",
       "      <th>3</th>\n",
       "      <td>ae</td>\n",
       "      <td>united arab emirates</td>\n",
       "      <td>sa</td>\n",
       "      <td>saudi arabia</td>\n",
       "      <td>24.466667</td>\n",
       "      <td>54.366667</td>\n",
       "      <td>asia</td>\n",
       "    </tr>\n",
       "    <tr>\n",
       "      <th>4</th>\n",
       "      <td>af</td>\n",
       "      <td>afghanistan</td>\n",
       "      <td>cn</td>\n",
       "      <td>china</td>\n",
       "      <td>34.516667</td>\n",
       "      <td>69.183333</td>\n",
       "      <td>asia</td>\n",
       "    </tr>\n",
       "  </tbody>\n",
       "</table>\n",
       "</div>"
      ],
      "text/plain": [
       "  country_code               country neighbor_code      neighbor   latitude  \\\n",
       "0           ad               andorra            fr        france  42.500000   \n",
       "1           ad               andorra            es         spain  42.500000   \n",
       "2           ae  united arab emirates            om          oman  24.466667   \n",
       "3           ae  united arab emirates            sa  saudi arabia  24.466667   \n",
       "4           af           afghanistan            cn         china  34.516667   \n",
       "\n",
       "   longitude continent  \n",
       "0   1.516667    europe  \n",
       "1   1.516667    europe  \n",
       "2  54.366667      asia  \n",
       "3  54.366667      asia  \n",
       "4  69.183333      asia  "
      ]
     },
     "execution_count": 40,
     "metadata": {},
     "output_type": "execute_result"
    }
   ],
   "source": [
    "# First approach\n",
    "full_df = pd.merge(brd_df, coord_df_filt, on='country_code', how='inner')\n",
    "full_df.head()"
   ]
  },
  {
   "cell_type": "code",
   "execution_count": 48,
   "id": "354e2cde-9ae2-4e37-842c-10d88d61bf25",
   "metadata": {},
   "outputs": [],
   "source": [
    "# second approach\n",
    "full_df2 = pd.merge(brd_df, coord_df_filt2, on='country_code', how='inner')"
   ]
  },
  {
   "cell_type": "markdown",
   "id": "ed0d5974-3834-4fc5-8eb2-624eb06d24a2",
   "metadata": {},
   "source": [
    "## Create dictionary of coordinates"
   ]
  },
  {
   "cell_type": "code",
   "execution_count": 43,
   "id": "64f154e4-9ca5-4ced-aed1-d5365991a9f8",
   "metadata": {},
   "outputs": [],
   "source": [
    "## to include as attribute\n",
    "coords = list(zip(full_df['longitude'], full_df['latitude']))\n",
    "dic_coords = {}\n",
    "# create dictionary with positions\n",
    "for pos, country_c in enumerate(full_df['country_code']):\n",
    "    dic_coords[country_c] = coords[pos]\n",
    "\n",
    "## https://stackoverflow.com/questions/42272710/networkx-how-to-assign-the-node-coordinates-as-attribute"
   ]
  },
  {
   "cell_type": "markdown",
   "id": "4c96a455-670d-4b6e-ba02-521d16218ed9",
   "metadata": {},
   "source": [
    "## Number of neightbors\n"
   ]
  },
  {
   "cell_type": "code",
   "execution_count": 44,
   "id": "dbf0ff83-fac9-4759-901f-d175fdfa990b",
   "metadata": {},
   "outputs": [],
   "source": [
    "weigths = full_df.set_index([\"country_code\", \"neighbor\"]).count(level=\"country_code\")['country'].reset_index()\n",
    "\n",
    "dic_weight = {}\n",
    "# create dictionary with positions\n",
    "for pos, country_c in enumerate(weigths['country_code']):\n",
    "    dic_weight[country_c] = weigths['country'][pos]"
   ]
  },
  {
   "cell_type": "markdown",
   "id": "049009a4-b200-4fd1-ac0c-c8776aa4195a",
   "metadata": {},
   "source": [
    "## Graph"
   ]
  },
  {
   "cell_type": "code",
   "execution_count": 52,
   "id": "a588eaac-cfcd-461b-bad3-a9f8df643cef",
   "metadata": {},
   "outputs": [],
   "source": [
    "G = nx.Graph()\n",
    "G = nx.from_pandas_edgelist(full_df2, 'country_code', 'neighbor_code')\n",
    "nx.set_node_attributes(G, dic_coords, 'coord')\n",
    "#nx.set_node_attributes(G, dic_weight, 'value')"
   ]
  },
  {
   "cell_type": "code",
   "execution_count": 50,
   "id": "a1ece410-c5b4-4cfc-a37a-77123aa9be7c",
   "metadata": {},
   "outputs": [
    {
     "data": {
      "image/png": "[encoded data removed]",
      "text/plain": [
       "<Figure size 432x288 with 1 Axes>"
      ]
     },
     "metadata": {},
     "output_type": "display_data"
    }
   ],
   "source": [
    "nx.draw(G, pos=dic_coords , with_labels=True)\n",
    "plt.show()"
   ]
  },
  {
   "cell_type": "code",
   "execution_count": 51,
   "id": "32affd10",
   "metadata": {},
   "outputs": [
    {
     "data": {
      "image/png": "[encoded data removed]",
      "text/plain": [
       "<Figure size 432x288 with 1 Axes>"
      ]
     },
     "metadata": {},
     "output_type": "display_data"
    }
   ],
   "source": [
    "# apparently, there is no difference\n",
    "G = nx.Graph()\n",
    "G = nx.from_pandas_edgelist(full_df, 'country_code', 'neighbor_code')\n",
    "nx.set_node_attributes(G, dic_coords, 'coord')\n",
    "#nx.set_node_attributes(G, dic_weight, 'value')\n",
    "\n",
    "nx.draw(G, pos=dic_coords , with_labels=True)\n",
    "plt.show()"
   ]
  },
  {
   "cell_type": "markdown",
   "id": "478ca614",
   "metadata": {},
   "source": [
    "# Using [`pyvis`](https://pyvis.readthedocs.io/en/latest/index.html)"
   ]
  },
  {
   "cell_type": "code",
   "execution_count": 61,
   "id": "d611a78a-0b65-48c0-a925-39b225c693cb",
   "metadata": {},
   "outputs": [
    {
     "data": {
      "text/html": [
       "\n",
       "        <iframe\n",
       "            width=\"500px\"\n",
       "            height=\"500px\"\n",
       "            src=\"graph_output.html\"\n",
       "            frameborder=\"0\"\n",
       "            allowfullscreen\n",
       "        ></iframe>\n",
       "        "
      ],
      "text/plain": [
       "<IPython.lib.display.IFrame at 0x7f56522993d0>"
      ]
     },
     "execution_count": 61,
     "metadata": {},
     "output_type": "execute_result"
    }
   ],
   "source": [
    "utils.draw_graph3(G, output_filename='graph_output.html', notebook=True)"
   ]
  },
  {
   "cell_type": "markdown",
   "id": "6c9731d8-0c58-4f34-8cd0-358694709260",
   "metadata": {},
   "source": [
    "## Dataframe without neighbors"
   ]
  },
  {
   "cell_type": "code",
   "execution_count": null,
   "id": "f69eaf0e-44bb-4175-9654-93a79624be87",
   "metadata": {},
   "outputs": [],
   "source": [
    "df_no_neighbors = df[df['neighbor'].isna()]"
   ]
  },
  {
   "cell_type": "markdown",
   "id": "04a20260-0aaa-4ed0-a82b-02292b264f1a",
   "metadata": {},
   "source": [
    "## Dataframe with neighbors"
   ]
  },
  {
   "cell_type": "code",
   "execution_count": 145,
   "id": "bd380d6f-bf29-4788-a5ec-a3e8d60c74cc",
   "metadata": {},
   "outputs": [],
   "source": [
    "df_w_neighbors = df[df['neighbor'].notna()]"
   ]
  }
 ],
 "metadata": {
  "kernelspec": {
   "display_name": "Python 3",
   "language": "python",
   "name": "python3"
  },
  "language_info": {
   "codemirror_mode": {
    "name": "ipython",
    "version": 3
   },
   "file_extension": ".py",
   "mimetype": "text/x-python",
   "name": "python",
   "nbconvert_exporter": "python",
   "pygments_lexer": "ipython3",
   "version": "3.9.4"
  }
 },
 "nbformat": 4,
 "nbformat_minor": 5
}
